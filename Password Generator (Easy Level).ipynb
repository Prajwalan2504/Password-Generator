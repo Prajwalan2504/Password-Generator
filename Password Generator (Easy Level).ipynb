{
 "cells": [
  {
   "cell_type": "code",
   "execution_count": 4,
   "id": "b3bd9957",
   "metadata": {},
   "outputs": [
    {
     "name": "stdout",
     "output_type": "stream",
     "text": [
      "Welcome to Password Generator\n",
      "\n",
      "How many letters would you like in your password? 8\n",
      "How many numbers would you like in your password? 2\n",
      "How many symbols would you like in your password? 6\n",
      "Here is your Password=GSiGUEJi74^^+!%*\n"
     ]
    }
   ],
   "source": [
    "#Password Generator Easy Level\n",
    "\n",
    "\n",
    "import random\n",
    "letters=['a', 'b', 'c', 'd', 'e', 'f', 'g', 'h', 'i', 'j', 'k', 'l', 'm',\n",
    "         'n', 'o', 'p', 'q', 'r', 's', 't', 'u', 'v', 'w', 'x', 'y', 'z', \n",
    "         'A', 'B', 'C', 'D', 'E', 'F','G', 'H', 'I', 'J', 'K', 'L', 'M', \n",
    "         'N', 'O', 'P', 'Q', 'R', 'S', 'T', 'U', 'V', 'W', 'X', 'Y', 'Z']\n",
    "numbers=['0','1','2','3','4','5','6','7','8','9']\n",
    "symbols=['!','@','#','$','%','^','&','*','(',')','+']\n",
    "print(\"Welcome to Password Generator\\n\")\n",
    "a=int(input(\"How many letters would you like in your password? \"))\n",
    "b=int(input(\"How many numbers would you like in your password? \"))\n",
    "c=int(input(\"How many symbols would you like in your password? \"))\n",
    "\n",
    "password=\"\"\n",
    "for char in range(1,a+1):\n",
    "    password+=random.choice(letters)\n",
    "for char in range(1,b+1):\n",
    "    password+=random.choice(numbers)\n",
    "for char in range(1,c+1):\n",
    "    password+=random.choice(symbols)\n",
    "print(f\"Here is your Password={password}\")"
   ]
  },
  {
   "cell_type": "code",
   "execution_count": null,
   "id": "d227f5aa",
   "metadata": {},
   "outputs": [],
   "source": []
  }
 ],
 "metadata": {
  "kernelspec": {
   "display_name": "Python 3 (ipykernel)",
   "language": "python",
   "name": "python3"
  },
  "language_info": {
   "codemirror_mode": {
    "name": "ipython",
    "version": 3
   },
   "file_extension": ".py",
   "mimetype": "text/x-python",
   "name": "python",
   "nbconvert_exporter": "python",
   "pygments_lexer": "ipython3",
   "version": "3.10.9"
  }
 },
 "nbformat": 4,
 "nbformat_minor": 5
}
